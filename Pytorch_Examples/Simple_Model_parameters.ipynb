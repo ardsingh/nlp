{
 "cells": [
  {
   "cell_type": "code",
   "execution_count": 14,
   "metadata": {},
   "outputs": [],
   "source": [
    "import torch\n",
    "from torch import nn\n",
    "\n",
    "from IPython.core.interactiveshell import InteractiveShell \n",
    "InteractiveShell.ast_node_interactivity = \"all\""
   ]
  },
  {
   "cell_type": "code",
   "execution_count": 5,
   "metadata": {},
   "outputs": [],
   "source": [
    "class MNISTClassifier(nn.Module):\n",
    "\n",
    "    def __init__(self):\n",
    "\n",
    "        super().__init__()\n",
    "\n",
    "        self.fc1 = nn.Linear(784, 392)\n",
    "\n",
    "        self.fc2 = nn.Linear(392, 196)\n",
    "\n",
    "        self.fc3 = nn.Linear(196, 98)\n",
    "\n",
    "        self.fc4 = nn.Linear(98, 10)\n",
    "        \n",
    "        self.dropout = nn.Dropout(p=0.2) # defined our own dropout\n",
    "\n",
    "    #### Forward pass\n",
    "\n",
    "    def forward(self, x): # x is the input data\n",
    "\n",
    "        x = x.view(x.shape[0], -1)   # why\n",
    "\n",
    "        x = self.dropout(F.relu(self.fc1(x)))   #pass input x to fc1, apply relu activation, and dropout\n",
    "\n",
    "        x = self.dropout(F.relu(self.fc2(x)))\n",
    "\n",
    "        x = self.dropout(F.relu(self.fc3(x)))\n",
    "\n",
    "        x = F.log_softmax(self.fc4(x), dim=1)"
   ]
  },
  {
   "cell_type": "code",
   "execution_count": 19,
   "metadata": {},
   "outputs": [
    {
     "ename": "NameError",
     "evalue": "name 'optim' is not defined",
     "output_type": "error",
     "traceback": [
      "\u001b[0;31m---------------------------------------------------------------------------\u001b[0m",
      "\u001b[0;31mNameError\u001b[0m                                 Traceback (most recent call last)",
      "\u001b[0;32m<ipython-input-19-b9bc3ede1c23>\u001b[0m in \u001b[0;36m<module>\u001b[0;34m\u001b[0m\n\u001b[1;32m      3\u001b[0m \u001b[0mloss_function\u001b[0m \u001b[0;34m=\u001b[0m \u001b[0mnn\u001b[0m\u001b[0;34m.\u001b[0m\u001b[0mNLLLoss\u001b[0m\u001b[0;34m(\u001b[0m\u001b[0;34m)\u001b[0m\u001b[0;34m\u001b[0m\u001b[0;34m\u001b[0m\u001b[0m\n\u001b[1;32m      4\u001b[0m \u001b[0;34m\u001b[0m\u001b[0m\n\u001b[0;32m----> 5\u001b[0;31m \u001b[0mopt\u001b[0m \u001b[0;34m=\u001b[0m \u001b[0moptim\u001b[0m\u001b[0;34m.\u001b[0m\u001b[0mAdam\u001b[0m\u001b[0;34m(\u001b[0m\u001b[0mmodel\u001b[0m\u001b[0;34m.\u001b[0m\u001b[0mparameters\u001b[0m\u001b[0;34m(\u001b[0m\u001b[0;34m)\u001b[0m\u001b[0;34m,\u001b[0m \u001b[0mlr\u001b[0m\u001b[0;34m=\u001b[0m\u001b[0;36m0.001\u001b[0m\u001b[0;34m)\u001b[0m\u001b[0;34m\u001b[0m\u001b[0;34m\u001b[0m\u001b[0m\n\u001b[0m",
      "\u001b[0;31mNameError\u001b[0m: name 'optim' is not defined"
     ]
    }
   ],
   "source": [
    "model = MNISTClassifier()\n",
    "\n",
    "loss_function = nn.NLLLoss()\n",
    "\n",
    "opt = optim.Adam(model.parameters(), lr=0.001)"
   ]
  },
  {
   "cell_type": "code",
   "execution_count": 20,
   "metadata": {},
   "outputs": [],
   "source": [
    "import numpy as np \n",
    "import pandas as pd \n",
    "\n",
    "import matplotlib.pyplot as plt\n",
    "\n",
    "import torch\n",
    "import torch.nn.functional as F\n",
    "from torch import nn, optim"
   ]
  },
  {
   "cell_type": "code",
   "execution_count": 21,
   "metadata": {},
   "outputs": [],
   "source": [
    "training_data = [\n",
    "        (\"Veinte paginas\".lower().split(), \"Spanish\"),\n",
    "        (\"I will visit the library\".lower().split(), \"English\"),\n",
    "        (\"I am reading a book\".lower().split(), \"English\"),\n",
    "        (\"This is my favourite chapter\".lower().split(), \"English\"),\n",
    "        (\"Estoy en la biblioteca\".lower().split(), \"Spanish\"),\n",
    "        (\"Tengo un libro\".lower().split(), \"Spanish\")\n",
    "        ]\n",
    "\n",
    "test_data = [\n",
    "        (\"Estoy leyendo\".lower().split(), \"Spanish\"),\n",
    "        (\"This is not my favourite book\".lower().split(), \"English\")\n",
    "        ]"
   ]
  },
  {
   "cell_type": "code",
   "execution_count": 23,
   "metadata": {},
   "outputs": [
    {
     "name": "stdout",
     "output_type": "stream",
     "text": [
      "{'veinte': 0, 'paginas': 1, 'i': 2, 'will': 3, 'visit': 4, 'the': 5, 'library': 6, 'am': 7, 'reading': 8, 'a': 9, 'book': 10, 'this': 11, 'is': 12, 'my': 13, 'favourite': 14, 'chapter': 15, 'estoy': 16, 'en': 17, 'la': 18, 'biblioteca': 19, 'tengo': 20, 'un': 21, 'libro': 22, 'leyendo': 23, 'not': 24}\n"
     ]
    }
   ],
   "source": [
    "word_dict = {}\n",
    "i = 0\n",
    "for words, language in training_data + test_data:\n",
    "    for word in words:\n",
    "        if word not in word_dict:\n",
    "            word_dict[word] = i\n",
    "            i += 1\n",
    "print(word_dict)"
   ]
  },
  {
   "cell_type": "code",
   "execution_count": 27,
   "metadata": {},
   "outputs": [
    {
     "name": "stdout",
     "output_type": "stream",
     "text": [
      "corupus size  25\n"
     ]
    },
    {
     "data": {
      "text/plain": [
       "25"
      ]
     },
     "execution_count": 27,
     "metadata": {},
     "output_type": "execute_result"
    }
   ],
   "source": [
    "corpus_size = len(word_dict)\n",
    "languages = 2\n",
    "label_index = {\"Spanish\": 0, \"English\": 1}\n",
    "print('corupus size ', corpus_size)\n"
   ]
  },
  {
   "cell_type": "code",
   "execution_count": 48,
   "metadata": {},
   "outputs": [],
   "source": [
    "class BagofWordsClassifier(nn.Module):  \n",
    "\n",
    "    def __init__(self, languages, corpus_size):\n",
    "        super(BagofWordsClassifier, self).__init__()\n",
    "        self.linear = nn.Linear(corpus_size, languages) # The only input we need to feed or worry is corpus size\n",
    "        #. Our input should be of batch_size X corpus_size. For example, [1,25] or [2,25] is good\n",
    "\n",
    "    def forward(self, bow_vec):\n",
    "        return F.log_softmax(self.linear(bow_vec), dim=1) #dim (int): A dimension along which log_softmax will be computed."
   ]
  },
  {
   "cell_type": "code",
   "execution_count": 73,
   "metadata": {},
   "outputs": [],
   "source": [
    "def make_bow_vector(sentence, word_index):\n",
    "    word_vec = torch.zeros(corpus_size) # size is [25] of 0s to be returned\n",
    "    for word in sentence:\n",
    "        word_vec[word_dict[word]] += 1\n",
    "    return word_vec.view(1, -1) # return shape of (1, 25). here 1 is the batch size"
   ]
  },
  {
   "cell_type": "code",
   "execution_count": 40,
   "metadata": {},
   "outputs": [],
   "source": [
    "def make_target(label, label_index):\n",
    "    return torch.LongTensor([label_index[label]]) # return shape of ([1])"
   ]
  },
  {
   "cell_type": "markdown",
   "metadata": {},
   "source": [
    "number of parameters we are expecting:\n",
    "- two output nodes (english and spanish)\n",
    "- each node takes full input (25)\n",
    "- each now Wx +b means 25 W parameters and 1 b \n"
   ]
  },
  {
   "cell_type": "code",
   "execution_count": 92,
   "metadata": {},
   "outputs": [
    {
     "data": {
      "text/plain": [
       "[torch.Size([2, 25]), torch.Size([2])]"
      ]
     },
     "execution_count": 92,
     "metadata": {},
     "output_type": "execute_result"
    }
   ],
   "source": [
    "[param.shape for param in model.parameters()]\n",
    "# we expect 2 nodes. Each node has 25 w's and 1 b"
   ]
  },
  {
   "cell_type": "code",
   "execution_count": 45,
   "metadata": {},
   "outputs": [],
   "source": [
    "model = BagofWordsClassifier(languages, corpus_size)\n",
    "loss_function = nn.NLLLoss()\n",
    "optimizer = optim.SGD(model.parameters(), lr=0.1)\n",
    "\n",
    "\n",
    "\n",
    "for epoch in range(100):\n",
    "    for sentence, label in training_data:\n",
    "\n",
    "        model.zero_grad()\n",
    "\n",
    "        bow_vec = make_bow_vector(sentence, word_dict) # this is giving us the shape of batchX input(corpus_size)\n",
    "        target = make_target(label, label_index)\n",
    "\n",
    "        log_probs = model(bow_vec)\n",
    "        \n",
    "\n",
    "        loss = loss_function(log_probs, target)\n",
    "        loss.backward()\n",
    "        optimizer.step()\n",
    "        \n",
    "    if epoch % 10 == 0:\n",
    "        print('Epoch: ',str(epoch+1),', Loss: ' + str(loss.item()))"
   ]
  },
  {
   "cell_type": "code",
   "execution_count": null,
   "metadata": {},
   "outputs": [],
   "source": [
    "def make_predictions(data): # this prediction gives probability of english and spanish both\n",
    "\n",
    "    with torch.no_grad():    # disable updating of the parameters\n",
    "        sentence = data[0]\n",
    "        label = data[1]\n",
    "        bow_vec = make_bow_vector(sentence, word_dict)\n",
    "        log_probs = model(bow_vec)\n",
    "        print(sentence)\n",
    "        print(label + ':')\n",
    "        print(np.exp(log_probs))"
   ]
  },
  {
   "cell_type": "code",
   "execution_count": 87,
   "metadata": {},
   "outputs": [
    {
     "name": "stdout",
     "output_type": "stream",
     "text": [
      "['estoy', 'leyendo']\n",
      "Spanish:\n",
      "tensor([[0.9169, 0.0831]])\n",
      "['this', 'is', 'not', 'my', 'favourite', 'book']\n",
      "English:\n",
      "tensor([[0.0064, 0.9936]])\n"
     ]
    }
   ],
   "source": [
    "make_predictions(test_data[0])\n",
    "make_predictions(test_data[1])"
   ]
  },
  {
   "cell_type": "code",
   "execution_count": 103,
   "metadata": {},
   "outputs": [
    {
     "name": "stdout",
     "output_type": "stream",
     "text": [
      "estoy:  index= 16  :\n",
      "Spanish Parameter = 0.8518858551979065\n",
      "English Parameter = -0.5249736309051514\n",
      "\n",
      "\n",
      "book:  index= 10  :\n",
      "Spanish Parameter = -0.5040857195854187\n",
      "English Parameter = 0.4929571747779846\n",
      "\n",
      "\n"
     ]
    }
   ],
   "source": [
    "def return_params(word): \n",
    "    index = word_dict[word]\n",
    "    for p in model.parameters():\n",
    "        dims = len(p.size())\n",
    "        if dims == 2:\n",
    "            print(word + ':', ' index=', index, ' :')\n",
    "            print('Spanish Parameter = ' + str(p[0][index].item()))\n",
    "            print('English Parameter = ' + str(p[1][index].item()))\n",
    "            print('\\n')\n",
    "            \n",
    "return_params('estoy')\n",
    "return_params('book')"
   ]
  }
 ],
 "metadata": {
  "kernelspec": {
   "display_name": "NMT",
   "language": "python",
   "name": "nmt"
  },
  "language_info": {
   "codemirror_mode": {
    "name": "ipython",
    "version": 3
   },
   "file_extension": ".py",
   "mimetype": "text/x-python",
   "name": "python",
   "nbconvert_exporter": "python",
   "pygments_lexer": "ipython3",
   "version": "3.6.12"
  }
 },
 "nbformat": 4,
 "nbformat_minor": 4
}
