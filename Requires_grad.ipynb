{
 "cells": [
  {
   "cell_type": "code",
   "execution_count": 1,
   "id": "supposed-chicago",
   "metadata": {},
   "outputs": [
    {
     "name": "stdout",
     "output_type": "stream",
     "text": [
      "X =  tensor([ 1.5450, -0.3620, -0.0941], requires_grad=True)\n",
      "Y=  tensor([3.5450, 1.6380, 1.9059], grad_fn=<AddBackward0>)\n",
      "Y.grad_fn= <AddBackward0 object at 0x00000298E2980080>\n"
     ]
    }
   ],
   "source": [
    "import torch\n",
    "from IPython.core.interactiveshell import InteractiveShell \n",
    "InteractiveShell.ast_node_interactivity = \"all\"\n",
    "\n",
    "# requires_grad = True -> tracks all operations on the tensor. \n",
    "x = torch.randn(3, requires_grad=True)\n",
    "y = x + 2\n",
    "\n",
    "# y was created as a result of an operation, so it has a grad_fn attribute.\n",
    "# grad_fn: references a Function that has created the Tensor\n",
    "print('X = ', x) # created by the user -> grad_fn is None\n",
    "print('Y= ', y)\n",
    "print('Y.grad_fn=',y.grad_fn)"
   ]
  },
  {
   "cell_type": "markdown",
   "id": "critical-missile",
   "metadata": {},
   "source": [
    "### Output is scalar (one number)\n",
    "So, backward() is easy"
   ]
  },
  {
   "cell_type": "code",
   "execution_count": 2,
   "id": "heard-boundary",
   "metadata": {},
   "outputs": [
    {
     "name": "stdout",
     "output_type": "stream",
     "text": [
      "z= tensor([37.7017,  8.0488, 10.8978], grad_fn=<MulBackward0>)\n",
      "z_mean =  tensor(18.8828, grad_fn=<MeanBackward0>)\n"
     ]
    }
   ],
   "source": [
    "# Do more operations on y\n",
    "z = y * y * 3\n",
    "print('z=',z)\n",
    "z = z.mean()\n",
    "print('z_mean = ',z)"
   ]
  },
  {
   "cell_type": "code",
   "execution_count": 3,
   "id": "eight-unknown",
   "metadata": {},
   "outputs": [
    {
     "name": "stdout",
     "output_type": "stream",
     "text": [
      "tensor([7.0901, 3.2759, 3.8119])\n"
     ]
    }
   ],
   "source": [
    "z.backward()\n",
    "print(x.grad) # dz/dx"
   ]
  },
  {
   "cell_type": "markdown",
   "id": "historic-reliance",
   "metadata": {},
   "source": [
    "### Output is non-scalar\n"
   ]
  },
  {
   "cell_type": "code",
   "execution_count": 6,
   "id": "chief-comparative",
   "metadata": {},
   "outputs": [
    {
     "name": "stdout",
     "output_type": "stream",
     "text": [
      "output y= tensor([-1303.0460, -3720.1638, -1654.0850], grad_fn=<MulBackward0>)\n",
      "y shape =  torch.Size([3])\n"
     ]
    }
   ],
   "source": [
    "# Model with non-scalar output:\n",
    "# If a Tensor is non-scalar (more than 1 elements), we need to specify arguments for backward() \n",
    "# specify a gradient argument that is a tensor of matching shape.\n",
    "# needed for vector-Jacobian product\n",
    "\n",
    "x = torch.randn(3, requires_grad=True)\n",
    "\n",
    "y = x * 2\n",
    "for _ in range(10):\n",
    "    y = y * 2\n",
    "\n",
    "print('output y=',y)\n",
    "print('y shape = ',y.shape)"
   ]
  },
  {
   "cell_type": "code",
   "execution_count": 7,
   "id": "fourth-mexican",
   "metadata": {},
   "outputs": [
    {
     "name": "stdout",
     "output_type": "stream",
     "text": [
      "tensor([2.0480e+02, 2.0480e+03, 2.0480e-01])\n"
     ]
    }
   ],
   "source": [
    "v = torch.tensor([0.1, 1.0, 0.0001], dtype=torch.float32)\n",
    "y.backward(v)\n",
    "print(x.grad)"
   ]
  }
 ],
 "metadata": {
  "kernelspec": {
   "display_name": "localnmt",
   "language": "python",
   "name": "localnmt"
  },
  "language_info": {
   "codemirror_mode": {
    "name": "ipython",
    "version": 3
   },
   "file_extension": ".py",
   "mimetype": "text/x-python",
   "name": "python",
   "nbconvert_exporter": "python",
   "pygments_lexer": "ipython3",
   "version": "3.6.12"
  }
 },
 "nbformat": 4,
 "nbformat_minor": 5
}
